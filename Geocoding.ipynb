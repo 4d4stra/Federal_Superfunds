{
 "cells": [
  {
   "cell_type": "code",
   "execution_count": 1,
   "metadata": {
    "collapsed": true
   },
   "outputs": [],
   "source": [
    "import pandas as pd\n",
    "import time\n",
    "import numpy as np\n",
    "import requests\n",
    "from selenium import webdriver\n",
    "from bs4 import BeautifulSoup\n",
    "from selenium.webdriver.support.ui import WebDriverWait"
   ]
  },
  {
   "cell_type": "code",
   "execution_count": 2,
   "metadata": {
    "collapsed": true
   },
   "outputs": [],
   "source": [
    "df=pd.read_csv('./data/priorities_list.csv')"
   ]
  },
  {
   "cell_type": "markdown",
   "metadata": {},
   "source": [
    "# Scraping address off of the site progress url"
   ]
  },
  {
   "cell_type": "code",
   "execution_count": 30,
   "metadata": {
    "collapsed": true
   },
   "outputs": [],
   "source": [
    "def extract_address(website):\n",
    "    time.sleep(0.1)\n",
    "    url =website\n",
    "    browser = webdriver.Chrome()\n",
    "    wait = WebDriverWait(browser, 10)\n",
    "    browser.get(url)\n",
    "    soup = BeautifulSoup(browser.page_source, \"lxml\")\n",
    "    browser.close()\n",
    "    try:\n",
    "        return_str=str(soup).split('Street Address')[1].split('\\n')[2].lstrip().rstrip()\n",
    "    except:\n",
    "        return_str='NaN'\n",
    "    return return_str\n",
    "df['address']=df.site_progress_url.apply(extract_address)"
   ]
  },
  {
   "cell_type": "code",
   "execution_count": 40,
   "metadata": {},
   "outputs": [
    {
     "name": "stderr",
     "output_type": "stream",
     "text": [
      "/opt/anaconda3/lib/python3.6/site-packages/pandas/core/indexing.py:179: SettingWithCopyWarning: \n",
      "A value is trying to be set on a copy of a slice from a DataFrame\n",
      "\n",
      "See the caveats in the documentation: http://pandas.pydata.org/pandas-docs/stable/indexing.html#indexing-view-versus-copy\n",
      "  self._setitem_with_indexer(indexer, value)\n"
     ]
    }
   ],
   "source": [
    "#manually correcting some missing data\n",
    "#https://semspub.epa.gov/work/05/309184.pdf\n",
    "df.address.iloc[344]=\"5300 Kennedy Avenue, Lake County, Indiana 46312\"\n",
    "\n",
    "#http://scorecard.goodguide.com/env-releases/land/site.tcl?epa_id=MAD980731335\n",
    "df.address.iloc[446]='ACUSHNET ESTUARY, NEW BEDFORD, MA 02740'"
   ]
  },
  {
   "cell_type": "code",
   "execution_count": 41,
   "metadata": {
    "collapsed": true
   },
   "outputs": [],
   "source": [
    "#resave data\n",
    "df.to_json('./data/priorities_list_waddr.json')"
   ]
  },
  {
   "cell_type": "markdown",
   "metadata": {
    "collapsed": true
   },
   "source": [
    "# Geocoding\n",
    "1. Will code in multiple ways in order to prevent gross errors or missing data"
   ]
  },
  {
   "cell_type": "code",
   "execution_count": 2,
   "metadata": {
    "collapsed": true
   },
   "outputs": [],
   "source": [
    "#loading google API key\n",
    "with open('~/google_apikey.txt') as f:\n",
    "    content = f.readlines()\n",
    "\n",
    "google_apikey=content[0][:-1]"
   ]
  },
  {
   "cell_type": "code",
   "execution_count": 3,
   "metadata": {
    "collapsed": true
   },
   "outputs": [],
   "source": [
    "df=pd.read_json('./data/priorities_list_waddr.json')"
   ]
  },
  {
   "cell_type": "code",
   "execution_count": 4,
   "metadata": {},
   "outputs": [
    {
     "name": "stderr",
     "output_type": "stream",
     "text": [
      "/opt/anaconda3/lib/python3.6/site-packages/pandas/core/indexing.py:179: SettingWithCopyWarning: \n",
      "A value is trying to be set on a copy of a slice from a DataFrame\n",
      "\n",
      "See the caveats in the documentation: http://pandas.pydata.org/pandas-docs/stable/indexing.html#indexing-view-versus-copy\n",
      "  self._setitem_with_indexer(indexer, value)\n"
     ]
    }
   ],
   "source": [
    "#correcting one for which the parser didn't work\n",
    "df.address.loc[1168]='W BANK OF SAN JACINTO RIVER, N OF HWY 10, Channelview, TX 77530'"
   ]
  },
  {
   "cell_type": "code",
   "execution_count": 5,
   "metadata": {},
   "outputs": [
    {
     "data": {
      "text/plain": [
       "(1000, 241)"
      ]
     },
     "execution_count": 5,
     "metadata": {},
     "output_type": "execute_result"
    }
   ],
   "source": [
    "def geocode_address(row):\n",
    "    address=row.address\n",
    "    addr_goog='https://maps.googleapis.com/maps/api/geocode/json?address='+address.replace(' ','+')+\\\n",
    "            '&key='+google_apikey\n",
    "    res=requests.get(addr_goog)\n",
    "    try:\n",
    "        row['goog_lat']=res.json()['results'][0]['geometry']['location']['lat']\n",
    "        row['goog_long']=res.json()['results'][0]['geometry']['location']['lng']\n",
    "    except:\n",
    "        row['goog_lat']=float('NaN')\n",
    "        row['goog_long']=float('NaN')\n",
    "    res=requests.get('https://geocoding.geo.census.gov/geocoder/locations/onelineaddress?address='+\\\n",
    "             address.replace(',','%2C').replace(\" \",\"+\")+'&benchmark=9&format=json')\n",
    "    try:\n",
    "        row['census_long']=res.json()['result']['addressMatches'][0]['coordinates']['x']\n",
    "        row['census_lat']=res.json()['result']['addressMatches'][0]['coordinates']['y']\n",
    "    except:\n",
    "        row['census_long']=float('NaN')\n",
    "        row['census_lat']=float('NaN')\n",
    "    time.sleep(0.1)\n",
    "    return row\n",
    "df=df.apply(geocode_address,axis=1)\n",
    "df.census_lat.isnull().sum(),df.goog_lat.isnull().sum()"
   ]
  },
  {
   "cell_type": "code",
   "execution_count": 6,
   "metadata": {
    "collapsed": true
   },
   "outputs": [],
   "source": [
    "df.to_json('./data/priorities_list_waddr_geocoded.json')"
   ]
  },
  {
   "cell_type": "code",
   "execution_count": 35,
   "metadata": {},
   "outputs": [
    {
     "data": {
      "text/plain": [
       "19"
      ]
     },
     "execution_count": 35,
     "metadata": {},
     "output_type": "execute_result"
    }
   ],
   "source": [
    "def clean_address(row):\n",
    "    latdif=abs(row.census_lat-row.goog_lat)       \n",
    "    longdif=abs(row.census_long-row.goog_long)   \n",
    "    if not np.isfinite(latdif) or latdif>0.1:\n",
    "        address=', '.join(row.address.split(', ')[1:])\n",
    "        addr_goog='https://maps.googleapis.com/maps/api/geocode/json?address='+address.replace(' ','+')+\\\n",
    "                '&key='+google_apikey\n",
    "        res=requests.get(addr_goog)\n",
    "        try:\n",
    "            newlat=res.json()['results'][0]['geometry']['location']['lat']\n",
    "            newlong=res.json()['results'][0]['geometry']['location']['lng']\n",
    "            latdif=abs(newlat-row.goog_lat)\n",
    "            longdif=abs(newlong-row.goog_long)\n",
    "            distance=(latdif**2+longdif**2)**0.5\n",
    "            if not np.isfinite(latdif):\n",
    "                row['goog_lat']=newlat\n",
    "                row['goog_long']=newlong\n",
    "                row['geocode_source']='city_state_zip'\n",
    "            elif distance>=1.:\n",
    "                row['goog_lat']=newlat\n",
    "                row['goog_long']=newlong\n",
    "                row['geocode_source']='city_state_zip'\n",
    "            else:\n",
    "                row['geocode_source']='full_address'\n",
    "        except:\n",
    "            row['goog_lat']=float('NaN')\n",
    "            row['goog_long']=float('NaN')\n",
    "            row['geocode_source']='zip_only'\n",
    "        time.sleep(.1)\n",
    "    else:\n",
    "        row['geocode_source']='full_address'\n",
    "    return row\n",
    "df2=df.apply(clean_address,axis=1)\n",
    "df2.goog_lat.isnull().sum()"
   ]
  },
  {
   "cell_type": "code",
   "execution_count": 34,
   "metadata": {},
   "outputs": [
    {
     "name": "stderr",
     "output_type": "stream",
     "text": [
      "/opt/anaconda3/lib/python3.6/site-packages/ipykernel_launcher.py:1: RuntimeWarning: divide by zero encountered in log10\n",
      "  \"\"\"Entry point for launching an IPython kernel.\n"
     ]
    },
    {
     "data": {
      "image/png": "[encoded data removed]",
      "text/plain": [
       "<matplotlib.figure.Figure at 0x7f5abab4e4a8>"
      ]
     },
     "metadata": {},
     "output_type": "display_data"
    }
   ],
   "source": [
    "plt.hist(np.log10(df_test.distance)[(~df_test.distance.isnull()) & (df_test.distance!=0.)],bins=100)\n",
    "plt.show()"
   ]
  },
  {
   "cell_type": "code",
   "execution_count": 37,
   "metadata": {
    "scrolled": true
   },
   "outputs": [
    {
     "data": {
      "text/plain": [
       "(1000, 5)"
      ]
     },
     "execution_count": 37,
     "metadata": {},
     "output_type": "execute_result"
    }
   ],
   "source": [
    "#checking against zip only\n",
    "def zip_only(row):\n",
    "    if row.geocode_source!='full_address' and row.address!='NaN':\n",
    "        address=row.address[-5:]\n",
    "        addr_goog='https://maps.googleapis.com/maps/api/geocode/json?address='+address.replace(' ','+')+\\\n",
    "                '&key='+google_apikey\n",
    "        res=requests.get(addr_goog)\n",
    "        try:\n",
    "            newlat=res.json()['results'][0]['geometry']['location']['lat']\n",
    "            newlong=res.json()['results'][0]['geometry']['location']['lng']\n",
    "            latdif=abs(newlat-row.goog_lat)\n",
    "            longdif=abs(newlong-row.goog_long)\n",
    "            distance=(latdif**2+longdif**2)**0.5\n",
    "            if not np.isfinite(row.goog_lat):\n",
    "                row['goog_lat']=newlat\n",
    "                row['goog_long']=newlong\n",
    "                row['geocode_source']='zip_only'\n",
    "            elif distance>=1.:\n",
    "                row['goog_lat']=newlat\n",
    "                row['goog_long']=newlong\n",
    "                row['geocode_source']='zip_only'\n",
    "        except:\n",
    "            row['goog_lat']=float('NaN')\n",
    "            row['goog_long']=float('NaN')\n",
    "            row['geocode_source']='NaN'\n",
    "        time.sleep(.1)\n",
    "    elif row.address=='NaN':\n",
    "        row['geocode_source']='NaN'\n",
    "    return row\n",
    "df3=df2.apply(zip_only,axis=1)\n",
    "df3.census_lat.isnull().sum(),df3.goog_lat.isnull().sum()"
   ]
  },
  {
   "cell_type": "code",
   "execution_count": 51,
   "metadata": {
    "collapsed": true
   },
   "outputs": [],
   "source": [
    "df3[(df3.goog_long>-10) & (df3.goog_lat>40)]=df3[(df3.goog_long>-10) & (df3.goog_lat>40)].apply(clean_address,axis=1)"
   ]
  },
  {
   "cell_type": "code",
   "execution_count": 52,
   "metadata": {},
   "outputs": [
    {
     "data": {
      "image/png": "[encoded data removed]",
      "text/plain": [
       "<matplotlib.figure.Figure at 0x7f5abaccd4a8>"
      ]
     },
     "metadata": {},
     "output_type": "display_data"
    }
   ],
   "source": [
    "plt.plot(df3.goog_long,df3.goog_lat,'.')\n",
    "plt.show()"
   ]
  },
  {
   "cell_type": "code",
   "execution_count": 58,
   "metadata": {
    "collapsed": true
   },
   "outputs": [],
   "source": [
    "df3.drop(['census_lat','census_long'],axis=1,inplace=True)\n",
    "\n",
    "df3.rename(columns={'goog_lat':'latitude','goog_long':'longitude'},inplace=True)"
   ]
  },
  {
   "cell_type": "code",
   "execution_count": 61,
   "metadata": {
    "collapsed": true
   },
   "outputs": [],
   "source": [
    "def encode_fips(row):\n",
    "    if np.isfinite(row.latitude):\n",
    "        qstring='http://data.fcc.gov/api/block/find?format=json&latitude='+str(row.latitude)+'&longitude='\\\n",
    "            +str(row.longitude)\n",
    "        res=requests.get(qstring)\n",
    "        try:\n",
    "            row['FIPS_Block_Group']=res.json()['Block']['FIPS']\n",
    "        except:\n",
    "            row['FIPS_Block_Group']=float('NaN')            \n",
    "    else:\n",
    "        row['FIPS_Block_Group']=float('NaN')\n",
    "    return row\n",
    "df3=df3.apply(encode_fips,axis=1)"
   ]
  },
  {
   "cell_type": "code",
   "execution_count": 63,
   "metadata": {},
   "outputs": [
    {
     "data": {
      "text/plain": [
       "5"
      ]
     },
     "execution_count": 63,
     "metadata": {},
     "output_type": "execute_result"
    }
   ],
   "source": [
    "df3.FIPS_Block_Group.isnull().sum()"
   ]
  },
  {
   "cell_type": "code",
   "execution_count": 65,
   "metadata": {
    "collapsed": true
   },
   "outputs": [],
   "source": [
    "df3.to_json('./data/priorities_list_waddr_geocoded.json')"
   ]
  },
  {
   "cell_type": "code",
   "execution_count": null,
   "metadata": {
    "collapsed": true
   },
   "outputs": [],
   "source": []
  }
 ],
 "metadata": {
  "kernelspec": {
   "display_name": "Python 3",
   "language": "python",
   "name": "python3"
  },
  "language_info": {
   "codemirror_mode": {
    "name": "ipython",
    "version": 3
   },
   "file_extension": ".py",
   "mimetype": "text/x-python",
   "name": "python",
   "nbconvert_exporter": "python",
   "pygments_lexer": "ipython3",
   "version": "3.6.2"
  }
 },
 "nbformat": 4,
 "nbformat_minor": 2
}
