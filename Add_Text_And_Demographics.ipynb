{
 "cells": [
  {
   "cell_type": "code",
   "execution_count": 2,
   "metadata": {
    "collapsed": true
   },
   "outputs": [],
   "source": [
    "import pandas as pd\n",
    "import time\n",
    "import numpy as np\n",
    "import tika\n",
    "import glob\n",
    "\n",
    "from tika import parser\n",
    "\n",
    "df=pd.read_json('./data/priorities_list_waddr_geocoded.json')"
   ]
  },
  {
   "cell_type": "code",
   "execution_count": 11,
   "metadata": {},
   "outputs": [],
   "source": [
    "#pull out the unique id from the narrative url, which can be matched to the downloaded pdfs\n",
    "def extract_id(row):\n",
    "    try:\n",
    "        row['site_id']=row.site_narrative_url.split('/')[-1]\n",
    "    except:\n",
    "        row['site_id']=None\n",
    "    return row\n",
    "df=df.apply(extract_id,axis=1)"
   ]
  },
  {
   "cell_type": "code",
   "execution_count": 26,
   "metadata": {
    "collapsed": true
   },
   "outputs": [],
   "source": [
    "#extract text from the pdf documents\n",
    "def extract_text(row):\n",
    "    try:\n",
    "        file='./data/epa_narratives/'+row.site_id+'.pdf'\n",
    "        parsed = parser.from_file(file)\n",
    "        row['text']=parsed[\"content\"].rstrip().lstrip()\n",
    "    except:\n",
    "        row['text']=None\n",
    "    return row\n",
    "df=df.apply(extract_text,axis=1)\n",
    "df.drop(['site_id'],axis=1,inplace=True)"
   ]
  },
  {
   "cell_type": "markdown",
   "metadata": {},
   "source": [
    "# For demographic information, I will use the Census Bureau planning database:\n",
    "* https://www.census.gov/research/data/planning_database/2015/"
   ]
  },
  {
   "cell_type": "code",
   "execution_count": 46,
   "metadata": {
    "collapsed": true
   },
   "outputs": [],
   "source": [
    "#preparing the priorities list to merge\n",
    "df.FIPS_Block_Group[df.FIPS_Block_Group.isnull()]=0\n",
    "\n",
    "df['FIPS_Block_Group']=df.FIPS_Block_Group.astype(int)\n",
    "\n",
    "df.rename(columns={'FIPS_Block_Group':'FIPS_Full'},inplace=True)\n",
    "df['FIPS_Block_Group']=df.FIPS_Full//1000"
   ]
  },
  {
   "cell_type": "code",
   "execution_count": 58,
   "metadata": {},
   "outputs": [],
   "source": [
    "#Loading the planning database\n",
    "pdb=pd.read_csv('/btrvol/Research/Datasets/Census/PDB_2015_Block_Group.csv',encoding=\"ISO-8859-1\")\n",
    "pdb.rename(columns={'GIDBG':'FIPS_Block_Group'},inplace=True)"
   ]
  },
  {
   "cell_type": "code",
   "execution_count": 66,
   "metadata": {},
   "outputs": [],
   "source": [
    "# adding in planning database information to the priorities list and saving\n",
    "df_priority=df.merge(pdb,on='FIPS_Block_Group',how='left')\n",
    "df_priority.to_json('./data/priorities_list_full.json')"
   ]
  },
  {
   "cell_type": "code",
   "execution_count": 70,
   "metadata": {},
   "outputs": [],
   "source": [
    "# adding in an indicator for whether or not a block group has a superfund site\n",
    "def has_superfund(row):\n",
    "    if row.FIPS_Block_Group in list(df.FIPS_Block_Group):\n",
    "        row['has_superfund']=1\n",
    "    else:\n",
    "        row['has_superfund']=0\n",
    "    return row\n",
    "pdb_block=pdb.apply(has_superfund,axis=1)\n",
    "\n",
    "pdb_block.to_csv(\"./data/pdb_block_group.csv\",index=False)"
   ]
  },
  {
   "cell_type": "code",
   "execution_count": 74,
   "metadata": {
    "collapsed": true
   },
   "outputs": [],
   "source": [
    "# adding in an indicator for whether or not a census tract has a superfund site\n",
    "pdb=pd.read_csv('/btrvol/Research/Datasets/Census/PDB_2015_Tract.csv',encoding=\"ISO-8859-1\")\n",
    "pdb.rename(columns={'GIDTR':'FIPS_Tract'},inplace=True)\n",
    "df['FIPS_Tract']=df.FIPS_Full//10000\n",
    "\n",
    "def has_superfund(row):\n",
    "    if row.FIPS_Tract in list(df.FIPS_Tract):\n",
    "        row['has_superfund']=1\n",
    "    else:\n",
    "        row['has_superfund']=0\n",
    "    return row\n",
    "pdb_tract=pdb.apply(has_superfund,axis=1)\n",
    "\n",
    "pdb_tract.to_csv(\"./data/pdb_tract.csv\",index=False)"
   ]
  },
  {
   "cell_type": "code",
   "execution_count": null,
   "metadata": {
    "collapsed": true
   },
   "outputs": [],
   "source": []
  }
 ],
 "metadata": {
  "kernelspec": {
   "display_name": "Python 3",
   "language": "python",
   "name": "python3"
  },
  "language_info": {
   "codemirror_mode": {
    "name": "ipython",
    "version": 3
   },
   "file_extension": ".py",
   "mimetype": "text/x-python",
   "name": "python",
   "nbconvert_exporter": "python",
   "pygments_lexer": "ipython3",
   "version": "3.6.2"
  }
 },
 "nbformat": 4,
 "nbformat_minor": 2
}
